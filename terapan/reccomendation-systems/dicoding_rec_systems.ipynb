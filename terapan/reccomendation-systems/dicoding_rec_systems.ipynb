{
  "nbformat": 4,
  "nbformat_minor": 0,
  "metadata": {
    "colab": {
      "provenance": [],
      "gpuType": "V28"
    },
    "kernelspec": {
      "name": "python3",
      "display_name": "Python 3"
    },
    "language_info": {
      "name": "python"
    },
    "accelerator": "TPU"
  },
  "cells": [
    {
      "cell_type": "markdown",
      "source": [
        "Perintah `!pip install scikit-surprise` digunakan untuk menginstal pustaka Python bernama \"scikit-surprise\", yang dirancang untuk membangun dan menganalisis sistem rekomendasi."
      ],
      "metadata": {
        "id": "cwgW7MB8Bsic"
      }
    },
    {
      "cell_type": "code",
      "source": [
        "!pip install scikit-surprise"
      ],
      "metadata": {
        "colab": {
          "base_uri": "https://localhost:8080/"
        },
        "id": "kPBgiHLnAJZi",
        "outputId": "d89b779d-da23-4af8-8ac3-12063b38fc48"
      },
      "execution_count": 1,
      "outputs": [
        {
          "output_type": "stream",
          "name": "stdout",
          "text": [
            "Collecting scikit-surprise\n",
            "  Downloading scikit_surprise-1.1.4.tar.gz (154 kB)\n",
            "\u001b[2K     \u001b[90m━━━━━━━━━━━━━━━━━━━━━━━━━━━━━━━━━━━━━━━━\u001b[0m \u001b[32m154.4/154.4 kB\u001b[0m \u001b[31m1.6 MB/s\u001b[0m eta \u001b[36m0:00:00\u001b[0m\n",
            "\u001b[?25h  Installing build dependencies ... \u001b[?25l\u001b[?25hdone\n",
            "  Getting requirements to build wheel ... \u001b[?25l\u001b[?25hdone\n",
            "  Preparing metadata (pyproject.toml) ... \u001b[?25l\u001b[?25hdone\n",
            "Requirement already satisfied: joblib>=1.2.0 in /usr/local/lib/python3.10/dist-packages (from scikit-surprise) (1.4.2)\n",
            "Requirement already satisfied: numpy>=1.19.5 in /usr/local/lib/python3.10/dist-packages (from scikit-surprise) (1.26.4)\n",
            "Requirement already satisfied: scipy>=1.6.0 in /usr/local/lib/python3.10/dist-packages (from scikit-surprise) (1.13.1)\n",
            "Building wheels for collected packages: scikit-surprise\n",
            "  Building wheel for scikit-surprise (pyproject.toml) ... \u001b[?25l\u001b[?25hdone\n",
            "  Created wheel for scikit-surprise: filename=scikit_surprise-1.1.4-cp310-cp310-linux_x86_64.whl size=2357275 sha256=6415914eb96fd9eeb11207b04751e14e04bf93868f48d1d790a05717a357ab83\n",
            "  Stored in directory: /root/.cache/pip/wheels/4b/3f/df/6acbf0a40397d9bf3ff97f582cc22fb9ce66adde75bc71fd54\n",
            "Successfully built scikit-surprise\n",
            "Installing collected packages: scikit-surprise\n",
            "Successfully installed scikit-surprise-1.1.4\n"
          ]
        }
      ]
    },
    {
      "cell_type": "markdown",
      "source": [
        "Kode berikut mengimpor pustaka untuk manipulasi data, transformasi teks, pengukuran kesamaan, dan pembangunan sistem rekomendasi."
      ],
      "metadata": {
        "id": "iuuRToLBBzN5"
      }
    },
    {
      "cell_type": "code",
      "execution_count": 2,
      "metadata": {
        "id": "XzE2vLC1EdYH"
      },
      "outputs": [],
      "source": [
        "# Importing necessary libraries\n",
        "import pandas as pd\n",
        "from sklearn.feature_extraction.text import TfidfVectorizer\n",
        "from sklearn.metrics.pairwise import cosine_similarity\n",
        "from surprise import Dataset, Reader, SVD\n",
        "from surprise.model_selection import train_test_split\n",
        "from surprise import accuracy"
      ]
    },
    {
      "cell_type": "markdown",
      "source": [
        "Kode berikut memuat dataset contoh tentang buku dari URL (GoodReads) yang diberikan dan menyimpannya dalam variabel `data` menggunakan pustaka pandas."
      ],
      "metadata": {
        "id": "_ftLpsTkCgrt"
      }
    },
    {
      "cell_type": "code",
      "source": [
        "# Project Overview\n",
        "# Loading a sample dataset (Movies dataset)\n",
        "url = 'https://raw.githubusercontent.com/zygmuntz/goodbooks-10k/master/books.csv'\n",
        "data = pd.read_csv(url)"
      ],
      "metadata": {
        "id": "X4VCWhbmEjMj"
      },
      "execution_count": 3,
      "outputs": []
    },
    {
      "cell_type": "markdown",
      "source": [
        "Kode berikut mencetak jumlah total baris dan kolom dalam dataset serta daftar nama kolom yang ada."
      ],
      "metadata": {
        "id": "j0odGuiSCjq6"
      }
    },
    {
      "cell_type": "code",
      "source": [
        "# Data Understanding\n",
        "print(f\"Total Rows: {data.shape[0]}, Total Columns: {data.shape[1]}\")\n",
        "print(f\"Dataset Columns: {data.columns.tolist()}\")"
      ],
      "metadata": {
        "id": "3-5uR1H1EkBn",
        "colab": {
          "base_uri": "https://localhost:8080/"
        },
        "outputId": "f05289ae-7ac6-4257-a638-85069cee4dab"
      },
      "execution_count": 4,
      "outputs": [
        {
          "output_type": "stream",
          "name": "stdout",
          "text": [
            "Total Rows: 10000, Total Columns: 23\n",
            "Dataset Columns: ['book_id', 'goodreads_book_id', 'best_book_id', 'work_id', 'books_count', 'isbn', 'isbn13', 'authors', 'original_publication_year', 'original_title', 'title', 'language_code', 'average_rating', 'ratings_count', 'work_ratings_count', 'work_text_reviews_count', 'ratings_1', 'ratings_2', 'ratings_3', 'ratings_4', 'ratings_5', 'image_url', 'small_image_url']\n"
          ]
        }
      ]
    },
    {
      "cell_type": "markdown",
      "source": [
        "Perintah `data.head()` menampilkan lima baris pertama dari dataset, memberikan gambaran awal tentang struktur dan konten data."
      ],
      "metadata": {
        "id": "NKWrh7MvCntK"
      }
    },
    {
      "cell_type": "code",
      "source": [
        "data.head()"
      ],
      "metadata": {
        "colab": {
          "base_uri": "https://localhost:8080/",
          "height": 447
        },
        "id": "ToTidWn91Cx3",
        "outputId": "26a83375-733e-478d-91ec-9251c05f0957"
      },
      "execution_count": 5,
      "outputs": [
        {
          "output_type": "execute_result",
          "data": {
            "text/plain": [
              "   book_id  goodreads_book_id  best_book_id  work_id  books_count       isbn  \\\n",
              "0        1            2767052       2767052  2792775          272  439023483   \n",
              "1        2                  3             3  4640799          491  439554934   \n",
              "2        3              41865         41865  3212258          226  316015849   \n",
              "3        4               2657          2657  3275794          487   61120081   \n",
              "4        5               4671          4671   245494         1356  743273567   \n",
              "\n",
              "         isbn13                      authors  original_publication_year  \\\n",
              "0  9.780439e+12              Suzanne Collins                     2008.0   \n",
              "1  9.780440e+12  J.K. Rowling, Mary GrandPré                     1997.0   \n",
              "2  9.780316e+12              Stephenie Meyer                     2005.0   \n",
              "3  9.780061e+12                   Harper Lee                     1960.0   \n",
              "4  9.780743e+12          F. Scott Fitzgerald                     1925.0   \n",
              "\n",
              "                             original_title  ... ratings_count  \\\n",
              "0                          The Hunger Games  ...       4780653   \n",
              "1  Harry Potter and the Philosopher's Stone  ...       4602479   \n",
              "2                                  Twilight  ...       3866839   \n",
              "3                     To Kill a Mockingbird  ...       3198671   \n",
              "4                          The Great Gatsby  ...       2683664   \n",
              "\n",
              "  work_ratings_count  work_text_reviews_count  ratings_1  ratings_2  \\\n",
              "0            4942365                   155254      66715     127936   \n",
              "1            4800065                    75867      75504     101676   \n",
              "2            3916824                    95009     456191     436802   \n",
              "3            3340896                    72586      60427     117415   \n",
              "4            2773745                    51992      86236     197621   \n",
              "\n",
              "   ratings_3  ratings_4  ratings_5  \\\n",
              "0     560092    1481305    2706317   \n",
              "1     455024    1156318    3011543   \n",
              "2     793319     875073    1355439   \n",
              "3     446835    1001952    1714267   \n",
              "4     606158     936012     947718   \n",
              "\n",
              "                                           image_url  \\\n",
              "0  https://images.gr-assets.com/books/1447303603m...   \n",
              "1  https://images.gr-assets.com/books/1474154022m...   \n",
              "2  https://images.gr-assets.com/books/1361039443m...   \n",
              "3  https://images.gr-assets.com/books/1361975680m...   \n",
              "4  https://images.gr-assets.com/books/1490528560m...   \n",
              "\n",
              "                                     small_image_url  \n",
              "0  https://images.gr-assets.com/books/1447303603s...  \n",
              "1  https://images.gr-assets.com/books/1474154022s...  \n",
              "2  https://images.gr-assets.com/books/1361039443s...  \n",
              "3  https://images.gr-assets.com/books/1361975680s...  \n",
              "4  https://images.gr-assets.com/books/1490528560s...  \n",
              "\n",
              "[5 rows x 23 columns]"
            ],
            "text/html": [
              "\n",
              "  <div id=\"df-0b400c17-eb47-4e6e-8dce-f875e718512b\" class=\"colab-df-container\">\n",
              "    <div>\n",
              "<style scoped>\n",
              "    .dataframe tbody tr th:only-of-type {\n",
              "        vertical-align: middle;\n",
              "    }\n",
              "\n",
              "    .dataframe tbody tr th {\n",
              "        vertical-align: top;\n",
              "    }\n",
              "\n",
              "    .dataframe thead th {\n",
              "        text-align: right;\n",
              "    }\n",
              "</style>\n",
              "<table border=\"1\" class=\"dataframe\">\n",
              "  <thead>\n",
              "    <tr style=\"text-align: right;\">\n",
              "      <th></th>\n",
              "      <th>book_id</th>\n",
              "      <th>goodreads_book_id</th>\n",
              "      <th>best_book_id</th>\n",
              "      <th>work_id</th>\n",
              "      <th>books_count</th>\n",
              "      <th>isbn</th>\n",
              "      <th>isbn13</th>\n",
              "      <th>authors</th>\n",
              "      <th>original_publication_year</th>\n",
              "      <th>original_title</th>\n",
              "      <th>...</th>\n",
              "      <th>ratings_count</th>\n",
              "      <th>work_ratings_count</th>\n",
              "      <th>work_text_reviews_count</th>\n",
              "      <th>ratings_1</th>\n",
              "      <th>ratings_2</th>\n",
              "      <th>ratings_3</th>\n",
              "      <th>ratings_4</th>\n",
              "      <th>ratings_5</th>\n",
              "      <th>image_url</th>\n",
              "      <th>small_image_url</th>\n",
              "    </tr>\n",
              "  </thead>\n",
              "  <tbody>\n",
              "    <tr>\n",
              "      <th>0</th>\n",
              "      <td>1</td>\n",
              "      <td>2767052</td>\n",
              "      <td>2767052</td>\n",
              "      <td>2792775</td>\n",
              "      <td>272</td>\n",
              "      <td>439023483</td>\n",
              "      <td>9.780439e+12</td>\n",
              "      <td>Suzanne Collins</td>\n",
              "      <td>2008.0</td>\n",
              "      <td>The Hunger Games</td>\n",
              "      <td>...</td>\n",
              "      <td>4780653</td>\n",
              "      <td>4942365</td>\n",
              "      <td>155254</td>\n",
              "      <td>66715</td>\n",
              "      <td>127936</td>\n",
              "      <td>560092</td>\n",
              "      <td>1481305</td>\n",
              "      <td>2706317</td>\n",
              "      <td>https://images.gr-assets.com/books/1447303603m...</td>\n",
              "      <td>https://images.gr-assets.com/books/1447303603s...</td>\n",
              "    </tr>\n",
              "    <tr>\n",
              "      <th>1</th>\n",
              "      <td>2</td>\n",
              "      <td>3</td>\n",
              "      <td>3</td>\n",
              "      <td>4640799</td>\n",
              "      <td>491</td>\n",
              "      <td>439554934</td>\n",
              "      <td>9.780440e+12</td>\n",
              "      <td>J.K. Rowling, Mary GrandPré</td>\n",
              "      <td>1997.0</td>\n",
              "      <td>Harry Potter and the Philosopher's Stone</td>\n",
              "      <td>...</td>\n",
              "      <td>4602479</td>\n",
              "      <td>4800065</td>\n",
              "      <td>75867</td>\n",
              "      <td>75504</td>\n",
              "      <td>101676</td>\n",
              "      <td>455024</td>\n",
              "      <td>1156318</td>\n",
              "      <td>3011543</td>\n",
              "      <td>https://images.gr-assets.com/books/1474154022m...</td>\n",
              "      <td>https://images.gr-assets.com/books/1474154022s...</td>\n",
              "    </tr>\n",
              "    <tr>\n",
              "      <th>2</th>\n",
              "      <td>3</td>\n",
              "      <td>41865</td>\n",
              "      <td>41865</td>\n",
              "      <td>3212258</td>\n",
              "      <td>226</td>\n",
              "      <td>316015849</td>\n",
              "      <td>9.780316e+12</td>\n",
              "      <td>Stephenie Meyer</td>\n",
              "      <td>2005.0</td>\n",
              "      <td>Twilight</td>\n",
              "      <td>...</td>\n",
              "      <td>3866839</td>\n",
              "      <td>3916824</td>\n",
              "      <td>95009</td>\n",
              "      <td>456191</td>\n",
              "      <td>436802</td>\n",
              "      <td>793319</td>\n",
              "      <td>875073</td>\n",
              "      <td>1355439</td>\n",
              "      <td>https://images.gr-assets.com/books/1361039443m...</td>\n",
              "      <td>https://images.gr-assets.com/books/1361039443s...</td>\n",
              "    </tr>\n",
              "    <tr>\n",
              "      <th>3</th>\n",
              "      <td>4</td>\n",
              "      <td>2657</td>\n",
              "      <td>2657</td>\n",
              "      <td>3275794</td>\n",
              "      <td>487</td>\n",
              "      <td>61120081</td>\n",
              "      <td>9.780061e+12</td>\n",
              "      <td>Harper Lee</td>\n",
              "      <td>1960.0</td>\n",
              "      <td>To Kill a Mockingbird</td>\n",
              "      <td>...</td>\n",
              "      <td>3198671</td>\n",
              "      <td>3340896</td>\n",
              "      <td>72586</td>\n",
              "      <td>60427</td>\n",
              "      <td>117415</td>\n",
              "      <td>446835</td>\n",
              "      <td>1001952</td>\n",
              "      <td>1714267</td>\n",
              "      <td>https://images.gr-assets.com/books/1361975680m...</td>\n",
              "      <td>https://images.gr-assets.com/books/1361975680s...</td>\n",
              "    </tr>\n",
              "    <tr>\n",
              "      <th>4</th>\n",
              "      <td>5</td>\n",
              "      <td>4671</td>\n",
              "      <td>4671</td>\n",
              "      <td>245494</td>\n",
              "      <td>1356</td>\n",
              "      <td>743273567</td>\n",
              "      <td>9.780743e+12</td>\n",
              "      <td>F. Scott Fitzgerald</td>\n",
              "      <td>1925.0</td>\n",
              "      <td>The Great Gatsby</td>\n",
              "      <td>...</td>\n",
              "      <td>2683664</td>\n",
              "      <td>2773745</td>\n",
              "      <td>51992</td>\n",
              "      <td>86236</td>\n",
              "      <td>197621</td>\n",
              "      <td>606158</td>\n",
              "      <td>936012</td>\n",
              "      <td>947718</td>\n",
              "      <td>https://images.gr-assets.com/books/1490528560m...</td>\n",
              "      <td>https://images.gr-assets.com/books/1490528560s...</td>\n",
              "    </tr>\n",
              "  </tbody>\n",
              "</table>\n",
              "<p>5 rows × 23 columns</p>\n",
              "</div>\n",
              "    <div class=\"colab-df-buttons\">\n",
              "\n",
              "  <div class=\"colab-df-container\">\n",
              "    <button class=\"colab-df-convert\" onclick=\"convertToInteractive('df-0b400c17-eb47-4e6e-8dce-f875e718512b')\"\n",
              "            title=\"Convert this dataframe to an interactive table.\"\n",
              "            style=\"display:none;\">\n",
              "\n",
              "  <svg xmlns=\"http://www.w3.org/2000/svg\" height=\"24px\" viewBox=\"0 -960 960 960\">\n",
              "    <path d=\"M120-120v-720h720v720H120Zm60-500h600v-160H180v160Zm220 220h160v-160H400v160Zm0 220h160v-160H400v160ZM180-400h160v-160H180v160Zm440 0h160v-160H620v160ZM180-180h160v-160H180v160Zm440 0h160v-160H620v160Z\"/>\n",
              "  </svg>\n",
              "    </button>\n",
              "\n",
              "  <style>\n",
              "    .colab-df-container {\n",
              "      display:flex;\n",
              "      gap: 12px;\n",
              "    }\n",
              "\n",
              "    .colab-df-convert {\n",
              "      background-color: #E8F0FE;\n",
              "      border: none;\n",
              "      border-radius: 50%;\n",
              "      cursor: pointer;\n",
              "      display: none;\n",
              "      fill: #1967D2;\n",
              "      height: 32px;\n",
              "      padding: 0 0 0 0;\n",
              "      width: 32px;\n",
              "    }\n",
              "\n",
              "    .colab-df-convert:hover {\n",
              "      background-color: #E2EBFA;\n",
              "      box-shadow: 0px 1px 2px rgba(60, 64, 67, 0.3), 0px 1px 3px 1px rgba(60, 64, 67, 0.15);\n",
              "      fill: #174EA6;\n",
              "    }\n",
              "\n",
              "    .colab-df-buttons div {\n",
              "      margin-bottom: 4px;\n",
              "    }\n",
              "\n",
              "    [theme=dark] .colab-df-convert {\n",
              "      background-color: #3B4455;\n",
              "      fill: #D2E3FC;\n",
              "    }\n",
              "\n",
              "    [theme=dark] .colab-df-convert:hover {\n",
              "      background-color: #434B5C;\n",
              "      box-shadow: 0px 1px 3px 1px rgba(0, 0, 0, 0.15);\n",
              "      filter: drop-shadow(0px 1px 2px rgba(0, 0, 0, 0.3));\n",
              "      fill: #FFFFFF;\n",
              "    }\n",
              "  </style>\n",
              "\n",
              "    <script>\n",
              "      const buttonEl =\n",
              "        document.querySelector('#df-0b400c17-eb47-4e6e-8dce-f875e718512b button.colab-df-convert');\n",
              "      buttonEl.style.display =\n",
              "        google.colab.kernel.accessAllowed ? 'block' : 'none';\n",
              "\n",
              "      async function convertToInteractive(key) {\n",
              "        const element = document.querySelector('#df-0b400c17-eb47-4e6e-8dce-f875e718512b');\n",
              "        const dataTable =\n",
              "          await google.colab.kernel.invokeFunction('convertToInteractive',\n",
              "                                                    [key], {});\n",
              "        if (!dataTable) return;\n",
              "\n",
              "        const docLinkHtml = 'Like what you see? Visit the ' +\n",
              "          '<a target=\"_blank\" href=https://colab.research.google.com/notebooks/data_table.ipynb>data table notebook</a>'\n",
              "          + ' to learn more about interactive tables.';\n",
              "        element.innerHTML = '';\n",
              "        dataTable['output_type'] = 'display_data';\n",
              "        await google.colab.output.renderOutput(dataTable, element);\n",
              "        const docLink = document.createElement('div');\n",
              "        docLink.innerHTML = docLinkHtml;\n",
              "        element.appendChild(docLink);\n",
              "      }\n",
              "    </script>\n",
              "  </div>\n",
              "\n",
              "\n",
              "<div id=\"df-31276e94-bc4f-4888-abb7-df13a9cc5c0c\">\n",
              "  <button class=\"colab-df-quickchart\" onclick=\"quickchart('df-31276e94-bc4f-4888-abb7-df13a9cc5c0c')\"\n",
              "            title=\"Suggest charts\"\n",
              "            style=\"display:none;\">\n",
              "\n",
              "<svg xmlns=\"http://www.w3.org/2000/svg\" height=\"24px\"viewBox=\"0 0 24 24\"\n",
              "     width=\"24px\">\n",
              "    <g>\n",
              "        <path d=\"M19 3H5c-1.1 0-2 .9-2 2v14c0 1.1.9 2 2 2h14c1.1 0 2-.9 2-2V5c0-1.1-.9-2-2-2zM9 17H7v-7h2v7zm4 0h-2V7h2v10zm4 0h-2v-4h2v4z\"/>\n",
              "    </g>\n",
              "</svg>\n",
              "  </button>\n",
              "\n",
              "<style>\n",
              "  .colab-df-quickchart {\n",
              "      --bg-color: #E8F0FE;\n",
              "      --fill-color: #1967D2;\n",
              "      --hover-bg-color: #E2EBFA;\n",
              "      --hover-fill-color: #174EA6;\n",
              "      --disabled-fill-color: #AAA;\n",
              "      --disabled-bg-color: #DDD;\n",
              "  }\n",
              "\n",
              "  [theme=dark] .colab-df-quickchart {\n",
              "      --bg-color: #3B4455;\n",
              "      --fill-color: #D2E3FC;\n",
              "      --hover-bg-color: #434B5C;\n",
              "      --hover-fill-color: #FFFFFF;\n",
              "      --disabled-bg-color: #3B4455;\n",
              "      --disabled-fill-color: #666;\n",
              "  }\n",
              "\n",
              "  .colab-df-quickchart {\n",
              "    background-color: var(--bg-color);\n",
              "    border: none;\n",
              "    border-radius: 50%;\n",
              "    cursor: pointer;\n",
              "    display: none;\n",
              "    fill: var(--fill-color);\n",
              "    height: 32px;\n",
              "    padding: 0;\n",
              "    width: 32px;\n",
              "  }\n",
              "\n",
              "  .colab-df-quickchart:hover {\n",
              "    background-color: var(--hover-bg-color);\n",
              "    box-shadow: 0 1px 2px rgba(60, 64, 67, 0.3), 0 1px 3px 1px rgba(60, 64, 67, 0.15);\n",
              "    fill: var(--button-hover-fill-color);\n",
              "  }\n",
              "\n",
              "  .colab-df-quickchart-complete:disabled,\n",
              "  .colab-df-quickchart-complete:disabled:hover {\n",
              "    background-color: var(--disabled-bg-color);\n",
              "    fill: var(--disabled-fill-color);\n",
              "    box-shadow: none;\n",
              "  }\n",
              "\n",
              "  .colab-df-spinner {\n",
              "    border: 2px solid var(--fill-color);\n",
              "    border-color: transparent;\n",
              "    border-bottom-color: var(--fill-color);\n",
              "    animation:\n",
              "      spin 1s steps(1) infinite;\n",
              "  }\n",
              "\n",
              "  @keyframes spin {\n",
              "    0% {\n",
              "      border-color: transparent;\n",
              "      border-bottom-color: var(--fill-color);\n",
              "      border-left-color: var(--fill-color);\n",
              "    }\n",
              "    20% {\n",
              "      border-color: transparent;\n",
              "      border-left-color: var(--fill-color);\n",
              "      border-top-color: var(--fill-color);\n",
              "    }\n",
              "    30% {\n",
              "      border-color: transparent;\n",
              "      border-left-color: var(--fill-color);\n",
              "      border-top-color: var(--fill-color);\n",
              "      border-right-color: var(--fill-color);\n",
              "    }\n",
              "    40% {\n",
              "      border-color: transparent;\n",
              "      border-right-color: var(--fill-color);\n",
              "      border-top-color: var(--fill-color);\n",
              "    }\n",
              "    60% {\n",
              "      border-color: transparent;\n",
              "      border-right-color: var(--fill-color);\n",
              "    }\n",
              "    80% {\n",
              "      border-color: transparent;\n",
              "      border-right-color: var(--fill-color);\n",
              "      border-bottom-color: var(--fill-color);\n",
              "    }\n",
              "    90% {\n",
              "      border-color: transparent;\n",
              "      border-bottom-color: var(--fill-color);\n",
              "    }\n",
              "  }\n",
              "</style>\n",
              "\n",
              "  <script>\n",
              "    async function quickchart(key) {\n",
              "      const quickchartButtonEl =\n",
              "        document.querySelector('#' + key + ' button');\n",
              "      quickchartButtonEl.disabled = true;  // To prevent multiple clicks.\n",
              "      quickchartButtonEl.classList.add('colab-df-spinner');\n",
              "      try {\n",
              "        const charts = await google.colab.kernel.invokeFunction(\n",
              "            'suggestCharts', [key], {});\n",
              "      } catch (error) {\n",
              "        console.error('Error during call to suggestCharts:', error);\n",
              "      }\n",
              "      quickchartButtonEl.classList.remove('colab-df-spinner');\n",
              "      quickchartButtonEl.classList.add('colab-df-quickchart-complete');\n",
              "    }\n",
              "    (() => {\n",
              "      let quickchartButtonEl =\n",
              "        document.querySelector('#df-31276e94-bc4f-4888-abb7-df13a9cc5c0c button');\n",
              "      quickchartButtonEl.style.display =\n",
              "        google.colab.kernel.accessAllowed ? 'block' : 'none';\n",
              "    })();\n",
              "  </script>\n",
              "</div>\n",
              "\n",
              "    </div>\n",
              "  </div>\n"
            ],
            "application/vnd.google.colaboratory.intrinsic+json": {
              "type": "dataframe",
              "variable_name": "data"
            }
          },
          "metadata": {},
          "execution_count": 5
        }
      ]
    },
    {
      "cell_type": "markdown",
      "source": [
        "Perintah `print(data.isna().sum())` menghitung dan menampilkan jumlah nilai kosong (NaN) untuk setiap kolom dalam dataset, membantu mengidentifikasi masalah data yang perlu ditangani."
      ],
      "metadata": {
        "id": "QYadHlWUCqoS"
      }
    },
    {
      "cell_type": "code",
      "source": [
        "print(data.isna().sum())"
      ],
      "metadata": {
        "colab": {
          "base_uri": "https://localhost:8080/"
        },
        "id": "43b2gV9c14zL",
        "outputId": "b5cd3b48-4486-486a-b45f-64d778d44a83"
      },
      "execution_count": 6,
      "outputs": [
        {
          "output_type": "stream",
          "name": "stdout",
          "text": [
            "book_id                         0\n",
            "goodreads_book_id               0\n",
            "best_book_id                    0\n",
            "work_id                         0\n",
            "books_count                     0\n",
            "isbn                          700\n",
            "isbn13                        585\n",
            "authors                         0\n",
            "original_publication_year      21\n",
            "original_title                585\n",
            "title                           0\n",
            "language_code                1084\n",
            "average_rating                  0\n",
            "ratings_count                   0\n",
            "work_ratings_count              0\n",
            "work_text_reviews_count         0\n",
            "ratings_1                       0\n",
            "ratings_2                       0\n",
            "ratings_3                       0\n",
            "ratings_4                       0\n",
            "ratings_5                       0\n",
            "image_url                       0\n",
            "small_image_url                 0\n",
            "dtype: int64\n"
          ]
        }
      ]
    },
    {
      "cell_type": "markdown",
      "source": [
        "Perintah berikut menggantikan nilai kosong di kolom `original_title` dengan nilai dari kolom `title`, memastikan tidak ada nilai hilang dalam kolom `original_title`."
      ],
      "metadata": {
        "id": "71r7UN3xCx9v"
      }
    },
    {
      "cell_type": "code",
      "source": [
        "data['original_title'] = data['original_title'].fillna(data['title'])"
      ],
      "metadata": {
        "id": "LrDtBlDY2qO5"
      },
      "execution_count": 7,
      "outputs": []
    },
    {
      "cell_type": "markdown",
      "source": [
        "Kode berikut membuat kolom baru bernama `tags` yang menggabungkan informasi dari kolom `authors`, `original_title`, dan `average_rating` (dikonversi ke string) untuk digunakan dalam pemfilteran berbasis konten."
      ],
      "metadata": {
        "id": "aLXN8CGNC26N"
      }
    },
    {
      "cell_type": "code",
      "source": [
        "# Data Preparation\n",
        "# Selecting relevant columns for the content-based filtering\n",
        "data['tags'] = data['authors'] + \" \" + data['original_title'] + \" \" + data['average_rating'].astype(str)"
      ],
      "metadata": {
        "id": "HEsf5ajvEk56"
      },
      "execution_count": 8,
      "outputs": []
    },
    {
      "cell_type": "markdown",
      "source": [
        "Menampilkan atau melakukan pengecekan hasil dari kode sebelumnya."
      ],
      "metadata": {
        "id": "Z-im_txEC5Xw"
      }
    },
    {
      "cell_type": "code",
      "source": [
        "data['tags'].head()"
      ],
      "metadata": {
        "colab": {
          "base_uri": "https://localhost:8080/",
          "height": 241
        },
        "id": "mdxudBxu0EwJ",
        "outputId": "51aa8b34-222c-4e63-9b87-c78899389c39"
      },
      "execution_count": 9,
      "outputs": [
        {
          "output_type": "execute_result",
          "data": {
            "text/plain": [
              "0                Suzanne Collins The Hunger Games 4.34\n",
              "1    J.K. Rowling, Mary GrandPré Harry Potter and t...\n",
              "2                        Stephenie Meyer Twilight 3.57\n",
              "3                Harper Lee To Kill a Mockingbird 4.25\n",
              "4            F. Scott Fitzgerald The Great Gatsby 3.89\n",
              "Name: tags, dtype: object"
            ],
            "text/html": [
              "<div>\n",
              "<style scoped>\n",
              "    .dataframe tbody tr th:only-of-type {\n",
              "        vertical-align: middle;\n",
              "    }\n",
              "\n",
              "    .dataframe tbody tr th {\n",
              "        vertical-align: top;\n",
              "    }\n",
              "\n",
              "    .dataframe thead th {\n",
              "        text-align: right;\n",
              "    }\n",
              "</style>\n",
              "<table border=\"1\" class=\"dataframe\">\n",
              "  <thead>\n",
              "    <tr style=\"text-align: right;\">\n",
              "      <th></th>\n",
              "      <th>tags</th>\n",
              "    </tr>\n",
              "  </thead>\n",
              "  <tbody>\n",
              "    <tr>\n",
              "      <th>0</th>\n",
              "      <td>Suzanne Collins The Hunger Games 4.34</td>\n",
              "    </tr>\n",
              "    <tr>\n",
              "      <th>1</th>\n",
              "      <td>J.K. Rowling, Mary GrandPré Harry Potter and t...</td>\n",
              "    </tr>\n",
              "    <tr>\n",
              "      <th>2</th>\n",
              "      <td>Stephenie Meyer Twilight 3.57</td>\n",
              "    </tr>\n",
              "    <tr>\n",
              "      <th>3</th>\n",
              "      <td>Harper Lee To Kill a Mockingbird 4.25</td>\n",
              "    </tr>\n",
              "    <tr>\n",
              "      <th>4</th>\n",
              "      <td>F. Scott Fitzgerald The Great Gatsby 3.89</td>\n",
              "    </tr>\n",
              "  </tbody>\n",
              "</table>\n",
              "</div><br><label><b>dtype:</b> object</label>"
            ]
          },
          "metadata": {},
          "execution_count": 9
        }
      ]
    },
    {
      "cell_type": "markdown",
      "source": [
        "Memastikan tidak ada null value, atau missing value pada kolom tags."
      ],
      "metadata": {
        "id": "QRLsezPyC9tA"
      }
    },
    {
      "cell_type": "code",
      "source": [
        "print(data['tags'].isna().sum())"
      ],
      "metadata": {
        "colab": {
          "base_uri": "https://localhost:8080/"
        },
        "id": "M3NRkx-W1VXQ",
        "outputId": "0bb18460-1be2-4481-fb25-769f19f4ead1"
      },
      "execution_count": 10,
      "outputs": [
        {
          "output_type": "stream",
          "name": "stdout",
          "text": [
            "0\n"
          ]
        }
      ]
    },
    {
      "cell_type": "markdown",
      "source": [
        "Kode berikut menggunakan `TfidfVectorizer` untuk mengubah kolom `tags` menjadi matriks TF-IDF, yang merepresentasikan teks secara numerik dan mengabaikan kata-kata umum (stop words) dalam bahasa Inggris."
      ],
      "metadata": {
        "id": "Amvzo47kDCZ3"
      }
    },
    {
      "cell_type": "code",
      "source": [
        "# Content-Based Filtering\n",
        "tfidf = TfidfVectorizer(stop_words='english')\n",
        "tfidf_matrix = tfidf.fit_transform(data['tags'])"
      ],
      "metadata": {
        "id": "1ibg_eGWEl-t"
      },
      "execution_count": 11,
      "outputs": []
    },
    {
      "cell_type": "markdown",
      "source": [
        "Kode berikut menghitung matriks kesamaan kosinus antara semua item dalam matriks TF-IDF, yang digunakan untuk mengukur seberapa mirip satu item dengan item lainnya berdasarkan konten."
      ],
      "metadata": {
        "id": "Epd8cvwcDMph"
      }
    },
    {
      "cell_type": "code",
      "source": [
        "# Cosine similarity matrix\n",
        "cosine_sim = cosine_similarity(tfidf_matrix, tfidf_matrix)"
      ],
      "metadata": {
        "id": "OmhHBNEUEmzf"
      },
      "execution_count": 12,
      "outputs": []
    },
    {
      "cell_type": "markdown",
      "source": [
        "Fungsi `content_based_recommendations` merekomendasikan buku berdasarkan kesamaan konten dengan cara mencari indeks buku yang diberikan, menghitung skor kesamaan, mengurutkannya, dan mengembalikan sepuluh judul buku teratas yang paling mirip."
      ],
      "metadata": {
        "id": "m6jUlJ4kDQO0"
      }
    },
    {
      "cell_type": "code",
      "source": [
        "# Function to recommend books based on content\n",
        "def content_based_recommendations(title, cosine_sim=cosine_sim):\n",
        "    idx = data.index[data['original_title'] == title].tolist()[0]\n",
        "    sim_scores = list(enumerate(cosine_sim[idx]))\n",
        "    sim_scores = sorted(sim_scores, key=lambda x: x[1], reverse=True)\n",
        "    sim_scores = sim_scores[1:11]\n",
        "    book_indices = [i[0] for i in sim_scores]\n",
        "    return data['original_title'].iloc[book_indices]"
      ],
      "metadata": {
        "id": "EZ7si9lVEnsx"
      },
      "execution_count": 13,
      "outputs": []
    },
    {
      "cell_type": "markdown",
      "source": [
        "Kode tersebut mencetak rekomendasi buku berdasarkan konten untuk judul \"Harry Potter and the Order of the Phoenix\" dengan menggunakan fungsi `content_based_recommendations`."
      ],
      "metadata": {
        "id": "KGeqvQGGDVCF"
      }
    },
    {
      "cell_type": "code",
      "source": [
        "# Example of content-based recommendation\n",
        "print(\"Content-Based Recommendations for 'Harry Potter':\")\n",
        "print(content_based_recommendations('Harry Potter and the Order of the Phoenix'))"
      ],
      "metadata": {
        "id": "1dJfzHw2Eoen",
        "colab": {
          "base_uri": "https://localhost:8080/"
        },
        "outputId": "bf9bc892-cc62-4623-b84b-f0544f6d3a82"
      },
      "execution_count": 14,
      "outputs": [
        {
          "output_type": "stream",
          "name": "stdout",
          "text": [
            "Content-Based Recommendations for 'Harry Potter':\n",
            "6140    Harry Potter and the Order of the Phoenix (Har...\n",
            "3274    Harry Potter Boxed Set, Books 1-5 (Harry Potte...\n",
            "23                    Harry Potter and the Goblet of Fire\n",
            "22                Harry Potter and the Chamber of Secrets\n",
            "1                Harry Potter and the Philosopher's Stone\n",
            "26                 Harry Potter and the Half-Blood Prince\n",
            "2100                     Harry Potter Boxed Set Books 1-4\n",
            "24                   Harry Potter and the Deathly Hallows\n",
            "3752         Harry Potter Collection (Harry Potter, #1-6)\n",
            "17               Harry Potter and the Prisoner of Azkaban\n",
            "Name: original_title, dtype: object\n"
          ]
        }
      ]
    },
    {
      "cell_type": "markdown",
      "source": [
        "Kode untuk menghitung presisi melalui variable yang berisi semua buku Harry Potter yang ada pada dataset."
      ],
      "metadata": {
        "id": "D_60zGMKmpjd"
      }
    },
    {
      "cell_type": "code",
      "source": [
        "def calculate_precision(recommendations, actual_books_read):\n",
        "  true_positives = len(set(recommendations) & set(actual_books_read))\n",
        "  precision = true_positives / len(recommendations) if len(recommendations) > 0 else 0\n",
        "  return precision\n",
        "\n",
        "# Example usage:\n",
        "recommended_books = content_based_recommendations('Harry Potter and the Order of the Phoenix').tolist()\n",
        "# Let's assume the user actually read these books (replace with actual user data)\n",
        "actual_books_read = ['Harry Potter and the Order of the Phoenix (Harry Potter, #5, Part 1)', 'Harry Potter Boxed Set, Books 1-5 (Harry Potter, #1-5)', 'Harry Potter and the Goblet of Fire', 'Harry Potter and the Chamber of Secrets', \"Harry Potter and the Philosopher's Stone\", 'Harry Potter and the Half-Blood Prince', 'Harry Potter Boxed Set Books 1-4', 'Harry Potter and the Deathly Hallows', 'Harry Potter Collection (Harry Potter, #1-6)', 'Harry Potter and the Prisoner of Azkaban']\n",
        "\n",
        "precision = calculate_precision(recommended_books, actual_books_read)\n",
        "print(f\"Precision: {precision}\")\n"
      ],
      "metadata": {
        "colab": {
          "base_uri": "https://localhost:8080/"
        },
        "id": "GP-yHnq2koDO",
        "outputId": "c5e7749b-328f-4696-bdc1-c731b04a6fb6"
      },
      "execution_count": 25,
      "outputs": [
        {
          "output_type": "stream",
          "name": "stdout",
          "text": [
            "Precision: 1.0\n"
          ]
        }
      ]
    },
    {
      "cell_type": "markdown",
      "source": [
        "Kode ini memiliki fungsi untuk menghitung presisi dan recall dari model, dengan membandingkan buku buku yang ada pada user 2 (dimana user 2 ini telah membaca buku yang banyak pada dataset tersebut) ke buku yang direkomendasikan oleh model."
      ],
      "metadata": {
        "id": "xYck8dZBmwyu"
      }
    },
    {
      "cell_type": "code",
      "source": [
        "# Mengambil buku-buku relevan berdasarkan rating\n",
        "def get_relevant_books(user_id, threshold=4):\n",
        "    relevant_books = ratings[(ratings['user_id'] == user_id) & (ratings['rating'] >= threshold)]['book_id'].tolist()\n",
        "    return relevant_books\n",
        "\n",
        "# Menghitung Precision dari rekomendasi berbasis konten\n",
        "def calculate_precision(user_id, recommended_books):\n",
        "    relevant_books = get_relevant_books(user_id)\n",
        "    relevant_and_recommended = [book for book in recommended_books if book in relevant_books]\n",
        "    precision = len(relevant_and_recommended) / len(recommended_books) if recommended_books else 0\n",
        "    return precision\n",
        "\n",
        "# Menghitung Recall dari rekomendasi berbasis konten\n",
        "def calculate_recall(user_id, recommended_books):\n",
        "    relevant_books = get_relevant_books(user_id)\n",
        "    relevant_and_recommended = [book for book in recommended_books if book in relevant_books]\n",
        "    recall = len(relevant_and_recommended) / len(relevant_books) if relevant_books else 0\n",
        "    return recall\n",
        "\n",
        "# Memperbarui fungsi rekomendasi berbasis konten untuk menghitung precision dan recall\n",
        "def content_based_recommendations_with_precision_recall(title, user_id, cosine_sim=cosine_sim):\n",
        "    # Mendapatkan rekomendasi berbasis konten\n",
        "    idx = data.index[data['original_title'] == title].tolist()[0]\n",
        "    sim_scores = list(enumerate(cosine_sim[idx]))\n",
        "    sim_scores = sorted(sim_scores, key=lambda x: x[1], reverse=True)\n",
        "    sim_scores = sim_scores[1:11]\n",
        "    book_indices = [i[0] for i in sim_scores]\n",
        "    recommended_books = data['book_id'].iloc[book_indices].tolist()\n",
        "\n",
        "    # Menghitung precision dan recall\n",
        "    precision = calculate_precision(user_id, recommended_books)\n",
        "    recall = calculate_recall(user_id, recommended_books)\n",
        "\n",
        "    return data['original_title'].iloc[book_indices], precision, recall\n",
        "\n",
        "# Contoh penggunaan fungsi dengan precision dan recall\n",
        "title = 'Harry Potter and the Order of the Phoenix'\n",
        "user_id = 2  # ID pengguna untuk evaluasi\n",
        "recommended_books, precision, recall = content_based_recommendations_with_precision_recall(title, user_id)\n",
        "\n",
        "print(f\"Rekomendasi berbasis konten untuk '{title}':\")\n",
        "print(recommended_books)\n",
        "print(f\"Precision: {precision:.2f}\")\n",
        "print(f\"Recall: {recall:.2f}\")\n"
      ],
      "metadata": {
        "colab": {
          "base_uri": "https://localhost:8080/"
        },
        "id": "BqRSjf-HmEvt",
        "outputId": "1e19370b-b893-46db-9b6e-b8aea0c4fc64"
      },
      "execution_count": 34,
      "outputs": [
        {
          "output_type": "stream",
          "name": "stdout",
          "text": [
            "Rekomendasi berbasis konten untuk 'Harry Potter and the Order of the Phoenix':\n",
            "6140    Harry Potter and the Order of the Phoenix (Har...\n",
            "3274    Harry Potter Boxed Set, Books 1-5 (Harry Potte...\n",
            "23                    Harry Potter and the Goblet of Fire\n",
            "22                Harry Potter and the Chamber of Secrets\n",
            "1                Harry Potter and the Philosopher's Stone\n",
            "26                 Harry Potter and the Half-Blood Prince\n",
            "2100                     Harry Potter Boxed Set Books 1-4\n",
            "24                   Harry Potter and the Deathly Hallows\n",
            "3752         Harry Potter Collection (Harry Potter, #1-6)\n",
            "17               Harry Potter and the Prisoner of Azkaban\n",
            "Name: original_title, dtype: object\n",
            "Precision: 0.70\n",
            "Recall: 0.13\n"
          ]
        }
      ]
    },
    {
      "cell_type": "markdown",
      "source": [
        "Kode berikut memuat dataset rating dari URL yang diberikan dan menyimpannya dalam variabel `ratings` menggunakan pustaka pandas."
      ],
      "metadata": {
        "id": "zFISrOEsDYAG"
      }
    },
    {
      "cell_type": "code",
      "source": [
        "# Collaborative Filtering\n",
        "# Loading ratings dataset\n",
        "url_ratings = 'https://raw.githubusercontent.com/zygmuntz/goodbooks-10k/master/ratings.csv'\n",
        "ratings = pd.read_csv(url_ratings)"
      ],
      "metadata": {
        "id": "wVWtoRueEpcM"
      },
      "execution_count": 16,
      "outputs": []
    },
    {
      "cell_type": "markdown",
      "source": [
        "Melihat 5 baris pertama pada dataframe ratings."
      ],
      "metadata": {
        "id": "NDWDyNSlEQaN"
      }
    },
    {
      "cell_type": "code",
      "source": [
        "ratings.head()"
      ],
      "metadata": {
        "colab": {
          "base_uri": "https://localhost:8080/",
          "height": 206
        },
        "id": "HzAw_in-EP24",
        "outputId": "4ad19eeb-83eb-49e4-b402-a13f3453f9ef"
      },
      "execution_count": 17,
      "outputs": [
        {
          "output_type": "execute_result",
          "data": {
            "text/plain": [
              "   user_id  book_id  rating\n",
              "0        1      258       5\n",
              "1        2     4081       4\n",
              "2        2      260       5\n",
              "3        2     9296       5\n",
              "4        2     2318       3"
            ],
            "text/html": [
              "\n",
              "  <div id=\"df-81485847-be80-4372-82dd-38d7d7059216\" class=\"colab-df-container\">\n",
              "    <div>\n",
              "<style scoped>\n",
              "    .dataframe tbody tr th:only-of-type {\n",
              "        vertical-align: middle;\n",
              "    }\n",
              "\n",
              "    .dataframe tbody tr th {\n",
              "        vertical-align: top;\n",
              "    }\n",
              "\n",
              "    .dataframe thead th {\n",
              "        text-align: right;\n",
              "    }\n",
              "</style>\n",
              "<table border=\"1\" class=\"dataframe\">\n",
              "  <thead>\n",
              "    <tr style=\"text-align: right;\">\n",
              "      <th></th>\n",
              "      <th>user_id</th>\n",
              "      <th>book_id</th>\n",
              "      <th>rating</th>\n",
              "    </tr>\n",
              "  </thead>\n",
              "  <tbody>\n",
              "    <tr>\n",
              "      <th>0</th>\n",
              "      <td>1</td>\n",
              "      <td>258</td>\n",
              "      <td>5</td>\n",
              "    </tr>\n",
              "    <tr>\n",
              "      <th>1</th>\n",
              "      <td>2</td>\n",
              "      <td>4081</td>\n",
              "      <td>4</td>\n",
              "    </tr>\n",
              "    <tr>\n",
              "      <th>2</th>\n",
              "      <td>2</td>\n",
              "      <td>260</td>\n",
              "      <td>5</td>\n",
              "    </tr>\n",
              "    <tr>\n",
              "      <th>3</th>\n",
              "      <td>2</td>\n",
              "      <td>9296</td>\n",
              "      <td>5</td>\n",
              "    </tr>\n",
              "    <tr>\n",
              "      <th>4</th>\n",
              "      <td>2</td>\n",
              "      <td>2318</td>\n",
              "      <td>3</td>\n",
              "    </tr>\n",
              "  </tbody>\n",
              "</table>\n",
              "</div>\n",
              "    <div class=\"colab-df-buttons\">\n",
              "\n",
              "  <div class=\"colab-df-container\">\n",
              "    <button class=\"colab-df-convert\" onclick=\"convertToInteractive('df-81485847-be80-4372-82dd-38d7d7059216')\"\n",
              "            title=\"Convert this dataframe to an interactive table.\"\n",
              "            style=\"display:none;\">\n",
              "\n",
              "  <svg xmlns=\"http://www.w3.org/2000/svg\" height=\"24px\" viewBox=\"0 -960 960 960\">\n",
              "    <path d=\"M120-120v-720h720v720H120Zm60-500h600v-160H180v160Zm220 220h160v-160H400v160Zm0 220h160v-160H400v160ZM180-400h160v-160H180v160Zm440 0h160v-160H620v160ZM180-180h160v-160H180v160Zm440 0h160v-160H620v160Z\"/>\n",
              "  </svg>\n",
              "    </button>\n",
              "\n",
              "  <style>\n",
              "    .colab-df-container {\n",
              "      display:flex;\n",
              "      gap: 12px;\n",
              "    }\n",
              "\n",
              "    .colab-df-convert {\n",
              "      background-color: #E8F0FE;\n",
              "      border: none;\n",
              "      border-radius: 50%;\n",
              "      cursor: pointer;\n",
              "      display: none;\n",
              "      fill: #1967D2;\n",
              "      height: 32px;\n",
              "      padding: 0 0 0 0;\n",
              "      width: 32px;\n",
              "    }\n",
              "\n",
              "    .colab-df-convert:hover {\n",
              "      background-color: #E2EBFA;\n",
              "      box-shadow: 0px 1px 2px rgba(60, 64, 67, 0.3), 0px 1px 3px 1px rgba(60, 64, 67, 0.15);\n",
              "      fill: #174EA6;\n",
              "    }\n",
              "\n",
              "    .colab-df-buttons div {\n",
              "      margin-bottom: 4px;\n",
              "    }\n",
              "\n",
              "    [theme=dark] .colab-df-convert {\n",
              "      background-color: #3B4455;\n",
              "      fill: #D2E3FC;\n",
              "    }\n",
              "\n",
              "    [theme=dark] .colab-df-convert:hover {\n",
              "      background-color: #434B5C;\n",
              "      box-shadow: 0px 1px 3px 1px rgba(0, 0, 0, 0.15);\n",
              "      filter: drop-shadow(0px 1px 2px rgba(0, 0, 0, 0.3));\n",
              "      fill: #FFFFFF;\n",
              "    }\n",
              "  </style>\n",
              "\n",
              "    <script>\n",
              "      const buttonEl =\n",
              "        document.querySelector('#df-81485847-be80-4372-82dd-38d7d7059216 button.colab-df-convert');\n",
              "      buttonEl.style.display =\n",
              "        google.colab.kernel.accessAllowed ? 'block' : 'none';\n",
              "\n",
              "      async function convertToInteractive(key) {\n",
              "        const element = document.querySelector('#df-81485847-be80-4372-82dd-38d7d7059216');\n",
              "        const dataTable =\n",
              "          await google.colab.kernel.invokeFunction('convertToInteractive',\n",
              "                                                    [key], {});\n",
              "        if (!dataTable) return;\n",
              "\n",
              "        const docLinkHtml = 'Like what you see? Visit the ' +\n",
              "          '<a target=\"_blank\" href=https://colab.research.google.com/notebooks/data_table.ipynb>data table notebook</a>'\n",
              "          + ' to learn more about interactive tables.';\n",
              "        element.innerHTML = '';\n",
              "        dataTable['output_type'] = 'display_data';\n",
              "        await google.colab.output.renderOutput(dataTable, element);\n",
              "        const docLink = document.createElement('div');\n",
              "        docLink.innerHTML = docLinkHtml;\n",
              "        element.appendChild(docLink);\n",
              "      }\n",
              "    </script>\n",
              "  </div>\n",
              "\n",
              "\n",
              "<div id=\"df-23fe24e5-8731-4ec5-8dc2-e1af57fe0693\">\n",
              "  <button class=\"colab-df-quickchart\" onclick=\"quickchart('df-23fe24e5-8731-4ec5-8dc2-e1af57fe0693')\"\n",
              "            title=\"Suggest charts\"\n",
              "            style=\"display:none;\">\n",
              "\n",
              "<svg xmlns=\"http://www.w3.org/2000/svg\" height=\"24px\"viewBox=\"0 0 24 24\"\n",
              "     width=\"24px\">\n",
              "    <g>\n",
              "        <path d=\"M19 3H5c-1.1 0-2 .9-2 2v14c0 1.1.9 2 2 2h14c1.1 0 2-.9 2-2V5c0-1.1-.9-2-2-2zM9 17H7v-7h2v7zm4 0h-2V7h2v10zm4 0h-2v-4h2v4z\"/>\n",
              "    </g>\n",
              "</svg>\n",
              "  </button>\n",
              "\n",
              "<style>\n",
              "  .colab-df-quickchart {\n",
              "      --bg-color: #E8F0FE;\n",
              "      --fill-color: #1967D2;\n",
              "      --hover-bg-color: #E2EBFA;\n",
              "      --hover-fill-color: #174EA6;\n",
              "      --disabled-fill-color: #AAA;\n",
              "      --disabled-bg-color: #DDD;\n",
              "  }\n",
              "\n",
              "  [theme=dark] .colab-df-quickchart {\n",
              "      --bg-color: #3B4455;\n",
              "      --fill-color: #D2E3FC;\n",
              "      --hover-bg-color: #434B5C;\n",
              "      --hover-fill-color: #FFFFFF;\n",
              "      --disabled-bg-color: #3B4455;\n",
              "      --disabled-fill-color: #666;\n",
              "  }\n",
              "\n",
              "  .colab-df-quickchart {\n",
              "    background-color: var(--bg-color);\n",
              "    border: none;\n",
              "    border-radius: 50%;\n",
              "    cursor: pointer;\n",
              "    display: none;\n",
              "    fill: var(--fill-color);\n",
              "    height: 32px;\n",
              "    padding: 0;\n",
              "    width: 32px;\n",
              "  }\n",
              "\n",
              "  .colab-df-quickchart:hover {\n",
              "    background-color: var(--hover-bg-color);\n",
              "    box-shadow: 0 1px 2px rgba(60, 64, 67, 0.3), 0 1px 3px 1px rgba(60, 64, 67, 0.15);\n",
              "    fill: var(--button-hover-fill-color);\n",
              "  }\n",
              "\n",
              "  .colab-df-quickchart-complete:disabled,\n",
              "  .colab-df-quickchart-complete:disabled:hover {\n",
              "    background-color: var(--disabled-bg-color);\n",
              "    fill: var(--disabled-fill-color);\n",
              "    box-shadow: none;\n",
              "  }\n",
              "\n",
              "  .colab-df-spinner {\n",
              "    border: 2px solid var(--fill-color);\n",
              "    border-color: transparent;\n",
              "    border-bottom-color: var(--fill-color);\n",
              "    animation:\n",
              "      spin 1s steps(1) infinite;\n",
              "  }\n",
              "\n",
              "  @keyframes spin {\n",
              "    0% {\n",
              "      border-color: transparent;\n",
              "      border-bottom-color: var(--fill-color);\n",
              "      border-left-color: var(--fill-color);\n",
              "    }\n",
              "    20% {\n",
              "      border-color: transparent;\n",
              "      border-left-color: var(--fill-color);\n",
              "      border-top-color: var(--fill-color);\n",
              "    }\n",
              "    30% {\n",
              "      border-color: transparent;\n",
              "      border-left-color: var(--fill-color);\n",
              "      border-top-color: var(--fill-color);\n",
              "      border-right-color: var(--fill-color);\n",
              "    }\n",
              "    40% {\n",
              "      border-color: transparent;\n",
              "      border-right-color: var(--fill-color);\n",
              "      border-top-color: var(--fill-color);\n",
              "    }\n",
              "    60% {\n",
              "      border-color: transparent;\n",
              "      border-right-color: var(--fill-color);\n",
              "    }\n",
              "    80% {\n",
              "      border-color: transparent;\n",
              "      border-right-color: var(--fill-color);\n",
              "      border-bottom-color: var(--fill-color);\n",
              "    }\n",
              "    90% {\n",
              "      border-color: transparent;\n",
              "      border-bottom-color: var(--fill-color);\n",
              "    }\n",
              "  }\n",
              "</style>\n",
              "\n",
              "  <script>\n",
              "    async function quickchart(key) {\n",
              "      const quickchartButtonEl =\n",
              "        document.querySelector('#' + key + ' button');\n",
              "      quickchartButtonEl.disabled = true;  // To prevent multiple clicks.\n",
              "      quickchartButtonEl.classList.add('colab-df-spinner');\n",
              "      try {\n",
              "        const charts = await google.colab.kernel.invokeFunction(\n",
              "            'suggestCharts', [key], {});\n",
              "      } catch (error) {\n",
              "        console.error('Error during call to suggestCharts:', error);\n",
              "      }\n",
              "      quickchartButtonEl.classList.remove('colab-df-spinner');\n",
              "      quickchartButtonEl.classList.add('colab-df-quickchart-complete');\n",
              "    }\n",
              "    (() => {\n",
              "      let quickchartButtonEl =\n",
              "        document.querySelector('#df-23fe24e5-8731-4ec5-8dc2-e1af57fe0693 button');\n",
              "      quickchartButtonEl.style.display =\n",
              "        google.colab.kernel.accessAllowed ? 'block' : 'none';\n",
              "    })();\n",
              "  </script>\n",
              "</div>\n",
              "\n",
              "    </div>\n",
              "  </div>\n"
            ],
            "application/vnd.google.colaboratory.intrinsic+json": {
              "type": "dataframe",
              "variable_name": "ratings"
            }
          },
          "metadata": {},
          "execution_count": 17
        }
      ]
    },
    {
      "cell_type": "markdown",
      "source": [
        "Kode berikut mempersiapkan dataset untuk pemfilteran kolaboratif dengan menggunakan `Reader` untuk mendefinisikan skala rating, dan memuat data dari DataFrame `ratings` ke dalam format yang dapat digunakan oleh pustaka Surprise."
      ],
      "metadata": {
        "id": "qiHjddQ_DbLb"
      }
    },
    {
      "cell_type": "code",
      "source": [
        "# Preparing the dataset for collaborative filtering\n",
        "reader = Reader(rating_scale=(1, 5))\n",
        "data_collab = Dataset.load_from_df(ratings[['user_id', 'book_id', 'rating']], reader)"
      ],
      "metadata": {
        "id": "cDKj4-01EqOj"
      },
      "execution_count": 18,
      "outputs": []
    },
    {
      "cell_type": "markdown",
      "source": [
        "Kode berikut membagi dataset menjadi set pelatihan dan pengujian, dengan 80% data digunakan untuk pelatihan dan 20% untuk pengujian, menggunakan fungsi `train_test_split` dari pustaka Surprise."
      ],
      "metadata": {
        "id": "Up-3Lhw4DfTE"
      }
    },
    {
      "cell_type": "code",
      "source": [
        "# Train-test split\n",
        "trainset, testset = train_test_split(data_collab, test_size=0.2)"
      ],
      "metadata": {
        "id": "A-jIcWdjEq15"
      },
      "execution_count": 19,
      "outputs": []
    },
    {
      "cell_type": "markdown",
      "source": [
        "Kode berikut menggunakan algoritma SVD (Singular Value Decomposition) untuk pelatihan model pemfilteran kolaboratif, kemudian menguji model tersebut pada set pengujian untuk menghasilkan prediksi rating."
      ],
      "metadata": {
        "id": "nE3ftsOGDrCa"
      }
    },
    {
      "cell_type": "code",
      "source": [
        "# Using SVD for collaborative filtering\n",
        "model = SVD()\n",
        "model.fit(trainset)\n",
        "predictions = model.test(testset)"
      ],
      "metadata": {
        "id": "-j2-dfRWEra0"
      },
      "execution_count": 20,
      "outputs": []
    },
    {
      "cell_type": "markdown",
      "source": [
        "Perintah `accuracy.rmse(predictions)` menghitung dan menampilkan root mean square error (RMSE) dari prediksi yang dihasilkan oleh model, yang digunakan untuk mengevaluasi akurasi model pemfilteran kolaboratif."
      ],
      "metadata": {
        "id": "Xf9tLHJsD5sp"
      }
    },
    {
      "cell_type": "code",
      "source": [
        "# Evaluation\n",
        "accuracy.rmse(predictions)"
      ],
      "metadata": {
        "id": "WzeSfZYxEsF2",
        "colab": {
          "base_uri": "https://localhost:8080/"
        },
        "outputId": "79c49adb-7aa2-49d7-fcf5-aed3c86675a9"
      },
      "execution_count": 21,
      "outputs": [
        {
          "output_type": "stream",
          "name": "stdout",
          "text": [
            "RMSE: 0.8308\n"
          ]
        },
        {
          "output_type": "execute_result",
          "data": {
            "text/plain": [
              "0.8308228044771095"
            ]
          },
          "metadata": {},
          "execution_count": 21
        }
      ]
    },
    {
      "cell_type": "markdown",
      "source": [
        "Fungsi `collaborative_filtering_recommendations` merekomendasikan buku untuk pengguna tertentu dengan memprediksi rating untuk setiap buku, mengurutkan hasilnya, dan mengembalikan judul serta penulis dari buku-buku dengan rating tertinggi."
      ],
      "metadata": {
        "id": "VBkecM0jEILL"
      }
    },
    {
      "cell_type": "code",
      "source": [
        "# Function to recommend books for a user based on collaborative filtering\n",
        "def collaborative_filtering_recommendations(user_id, n_recommendations=10):\n",
        "    book_ids = ratings['book_id'].unique()\n",
        "    predicted_ratings = []\n",
        "\n",
        "    for book_id in book_ids:\n",
        "        predicted_ratings.append((book_id, model.predict(user_id, book_id).est))\n",
        "\n",
        "    predicted_ratings.sort(key=lambda x: x[1], reverse=True)\n",
        "    top_books = predicted_ratings[:n_recommendations]\n",
        "    book_titles = data[data['book_id'].isin([book[0] for book in top_books])]\n",
        "\n",
        "    return book_titles[['original_title', 'authors']]"
      ],
      "metadata": {
        "id": "S-7s7D7BEsrO"
      },
      "execution_count": 22,
      "outputs": []
    },
    {
      "cell_type": "markdown",
      "source": [
        "Kode berikut mencetak rekomendasi buku berdasarkan pemfilteran kolaboratif untuk pengguna dengan ID 1, menggunakan fungsi `collaborative_filtering_recommendations`."
      ],
      "metadata": {
        "id": "XUOhN4y5EKQP"
      }
    },
    {
      "cell_type": "code",
      "source": [
        "# Example of collaborative filtering recommendation\n",
        "print(\"Collaborative Filtering Recommendations for User 1:\")\n",
        "print(collaborative_filtering_recommendations(1))"
      ],
      "metadata": {
        "id": "q-JBWu_7Etwo",
        "colab": {
          "base_uri": "https://localhost:8080/"
        },
        "outputId": "9aefb35b-07aa-4a51-a128-4eb5880ecd3e"
      },
      "execution_count": 23,
      "outputs": [
        {
          "output_type": "stream",
          "name": "stdout",
          "text": [
            "Collaborative Filtering Recommendations for User 1:\n",
            "                                         original_title  \\\n",
            "463                      Holy Bible: King James Version   \n",
            "722                                           Shantaram   \n",
            "1098                                  道德經 [dào dé jīng]   \n",
            "1347                                Horton Hears a Who!   \n",
            "2080                                          Skin Game   \n",
            "6589                The Authoritative Calvin and Hobbes   \n",
            "6919  The Indispensable Calvin and Hobbes: A Calvin ...   \n",
            "9140                           The Way of Kings, Part 1   \n",
            "9181             Justice: What's the Right Thing to Do?   \n",
            "9565  Attack of the Deranged Mutant Killer Monster S...   \n",
            "\n",
            "                                                authors  \n",
            "463                                           Anonymous  \n",
            "722                               Gregory David Roberts  \n",
            "1098  Lao Tzu, Gia-Fu Feng, Jane English, Chungliang...  \n",
            "1347                                          Dr. Seuss  \n",
            "2080                                        Jim Butcher  \n",
            "6589                                     Bill Watterson  \n",
            "6919                                     Bill Watterson  \n",
            "9140                                  Brandon Sanderson  \n",
            "9181                                  Michael J. Sandel  \n",
            "9565                                     Bill Watterson  \n"
          ]
        }
      ]
    }
  ]
}